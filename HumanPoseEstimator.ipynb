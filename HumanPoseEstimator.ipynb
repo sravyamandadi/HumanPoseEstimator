{
  "nbformat": 4,
  "nbformat_minor": 0,
  "metadata": {
    "colab": {
      "name": "HumanPoseEstimator.ipynb",
      "provenance": [],
      "authorship_tag": "ABX9TyPkCoJ6NAfy8d30M5JmRK3C",
      "include_colab_link": true
    },
    "kernelspec": {
      "name": "python3",
      "display_name": "Python 3"
    }
  },
  "cells": [
    {
      "cell_type": "markdown",
      "metadata": {
        "id": "view-in-github",
        "colab_type": "text"
      },
      "source": [
        "<a href=\"https://colab.research.google.com/github/sravyamandadi/HumanPoseEstimator/blob/main/HumanPoseEstimator.ipynb\" target=\"_parent\"><img src=\"https://colab.research.google.com/assets/colab-badge.svg\" alt=\"Open In Colab\"/></a>"
      ]
    },
    {
      "cell_type": "code",
      "metadata": {
        "id": "9xz1kMy3nIJV",
        "outputId": "d62a3a97-8693-4c47-b19c-6e3b2f2a83b0",
        "colab": {
          "base_uri": "https://localhost:8080/",
          "height": 312
        }
      },
      "source": [
        "! git clone https://github.com/microsoft/human-pose-estimation.pytorch && cd human-pose-estimation.pytorch && git checkout 18f1d0fa5b5db7fe08de640610f3fdbdbed8fb2f"
      ],
      "execution_count": null,
      "outputs": [
        {
          "output_type": "stream",
          "text": [
            "Cloning into 'human-pose-estimation.pytorch'...\n",
            "remote: Enumerating objects: 188, done.\u001b[K\n",
            "remote: Total 188 (delta 0), reused 0 (delta 0), pack-reused 188\u001b[K\n",
            "Receiving objects: 100% (188/188), 68.78 KiB | 2.37 MiB/s, done.\n",
            "Resolving deltas: 100% (86/86), done.\n",
            "Note: checking out '18f1d0fa5b5db7fe08de640610f3fdbdbed8fb2f'.\n",
            "\n",
            "You are in 'detached HEAD' state. You can look around, make experimental\n",
            "changes and commit them, and you can discard any commits you make in this\n",
            "state without impacting any branches by performing another checkout.\n",
            "\n",
            "If you want to create a new branch to retain commits you create, you may\n",
            "do so (now or later) by using -b with the checkout command again. Example:\n",
            "\n",
            "  git checkout -b <new-branch-name>\n",
            "\n",
            "HEAD is now at 18f1d0f Update README.md\n"
          ],
          "name": "stdout"
        }
      ]
    },
    {
      "cell_type": "code",
      "metadata": {
        "id": "ZY6jrVYunct0",
        "outputId": "4841270c-37ff-4cf2-c480-73c236630722",
        "colab": {
          "base_uri": "https://localhost:8080/",
          "height": 263
        }
      },
      "source": [
        "! pip install onnx onnxruntime"
      ],
      "execution_count": null,
      "outputs": [
        {
          "output_type": "stream",
          "text": [
            "Collecting onnx\n",
            "\u001b[?25l  Downloading https://files.pythonhosted.org/packages/36/ee/bc7bc88fc8449266add978627e90c363069211584b937fd867b0ccc59f09/onnx-1.7.0-cp36-cp36m-manylinux1_x86_64.whl (7.4MB)\n",
            "\u001b[K     |████████████████████████████████| 7.4MB 2.2MB/s \n",
            "\u001b[?25hCollecting onnxruntime\n",
            "\u001b[?25l  Downloading https://files.pythonhosted.org/packages/25/13/30b82810390591378ceef51cb80c16e56b6868875a5fd2794391132b68b5/onnxruntime-1.5.1-cp36-cp36m-manylinux2014_x86_64.whl (3.8MB)\n",
            "\u001b[K     |████████████████████████████████| 3.8MB 30.6MB/s \n",
            "\u001b[?25hRequirement already satisfied: numpy in /usr/local/lib/python3.6/dist-packages (from onnx) (1.18.5)\n",
            "Requirement already satisfied: protobuf in /usr/local/lib/python3.6/dist-packages (from onnx) (3.12.4)\n",
            "Requirement already satisfied: typing-extensions>=3.6.2.1 in /usr/local/lib/python3.6/dist-packages (from onnx) (3.7.4.3)\n",
            "Requirement already satisfied: six in /usr/local/lib/python3.6/dist-packages (from onnx) (1.15.0)\n",
            "Requirement already satisfied: setuptools in /usr/local/lib/python3.6/dist-packages (from protobuf->onnx) (50.3.0)\n",
            "Installing collected packages: onnx, onnxruntime\n",
            "Successfully installed onnx-1.7.0 onnxruntime-1.5.1\n"
          ],
          "name": "stdout"
        }
      ]
    },
    {
      "cell_type": "code",
      "metadata": {
        "id": "uueTLuwPnhNK"
      },
      "source": [
        "import sys\n",
        "if \"/content/human-pose-estimation.pytorch/lib/\" not in sys.path:\n",
        "    sys.path.insert(0, \"/content/human-pose-estimation.pytorch/lib/\")"
      ],
      "execution_count": null,
      "outputs": []
    },
    {
      "cell_type": "code",
      "metadata": {
        "id": "SGqZSzP2nnFo"
      },
      "source": [
        "import torch\n",
        "import torch.nn as nn\n",
        "import torch.backends.cudnn as cudnn\n",
        "import torch.optim\n",
        "import torchvision.transforms as T\n",
        "\n",
        "import cv2\n",
        "\n",
        "import re\n",
        "import os\n",
        "import copy\n",
        "import numpy as np\n",
        "\n",
        "from PIL import Image\n",
        "import matplotlib.pyplot as plt\n",
        "import seaborn as sns\n",
        "sns.set()"
      ],
      "execution_count": null,
      "outputs": []
    },
    {
      "cell_type": "code",
      "metadata": {
        "id": "1ubcyVXvnsF_"
      },
      "source": [
        "import models\n",
        "from core.config import config\n",
        "from core.config import update_config\n",
        "from core.config import update_dir\n",
        "from core.config import get_model_name"
      ],
      "execution_count": null,
      "outputs": []
    },
    {
      "cell_type": "code",
      "metadata": {
        "id": "avNBNERYnwmV",
        "outputId": "82042787-787c-4180-b2e3-f1e0085d2cdc",
        "colab": {
          "base_uri": "https://localhost:8080/",
          "height": 87
        }
      },
      "source": [
        "! gdown https://drive.google.com/uc?id=1V2AaVpDSn-eS7jrFScHLJ-wvTFuQ0-Dc"
      ],
      "execution_count": null,
      "outputs": [
        {
          "output_type": "stream",
          "text": [
            "Downloading...\n",
            "From: https://drive.google.com/uc?id=1V2AaVpDSn-eS7jrFScHLJ-wvTFuQ0-Dc\n",
            "To: /content/pose_resnet_50_256x256.pth.tar\n",
            "136MB [00:00, 178MB/s]\n"
          ],
          "name": "stdout"
        }
      ]
    },
    {
      "cell_type": "code",
      "metadata": {
        "id": "9Wl07jJ7pJNx"
      },
      "source": [
        "CONFIG_FILE = '/content/human-pose-estimation.pytorch/experiments/mpii/resnet50/256x256_d256x3_adam_lr1e-3.yaml'\n",
        "MODEL_PATH = '/content/pose_resnet_50_256x256.pth.tar'"
      ],
      "execution_count": null,
      "outputs": []
    },
    {
      "cell_type": "code",
      "metadata": {
        "id": "3xDb-G2DpOAN"
      },
      "source": [
        "update_config(CONFIG_FILE)\n",
        "config.GPUS = ''"
      ],
      "execution_count": null,
      "outputs": []
    },
    {
      "cell_type": "code",
      "metadata": {
        "id": "CviHiikApRU-",
        "outputId": "7925d177-97ac-499f-a600-1aaef00ef381",
        "colab": {
          "base_uri": "https://localhost:8080/",
          "height": 35
        }
      },
      "source": [
        "model = eval('models.'+config.MODEL.NAME+'.get_pose_net')(config, is_train=False)\n",
        "model.load_state_dict(torch.load(MODEL_PATH, map_location=torch.device('cpu')))"
      ],
      "execution_count": null,
      "outputs": [
        {
          "output_type": "execute_result",
          "data": {
            "text/plain": [
              "<All keys matched successfully>"
            ]
          },
          "metadata": {
            "tags": []
          },
          "execution_count": 9
        }
      ]
    }
  ]
}